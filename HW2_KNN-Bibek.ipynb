{
 "cells": [
  {
   "cell_type": "markdown",
   "id": "871ba3e9-d81f-4457-a880-b4558c8a2438",
   "metadata": {},
   "source": [
    "### Developing the K Nearest Neighbors (KNN) Regression to Predict the Disease Progression of Diabetes\n",
    "\n",
    "In Lecture 8, we implemented a KNN algorithm for classification, which computed a `simple majority vote` of the nearest neighbors of each test sample. \n",
    "\n",
    "In Homework 2, we will implement a KNN-based regression algorithm, and the prediction of a test sample is computed based on the `mean of the target values` of its nearest neighbors.\n",
    "\n",
    "`The diabetes dataset has 442 patients. Ten variables, age, sex, body mass index, average blood pressure, and six blood serum measurements, were obtained for each sample. The response/target variable is a quantitative measure of disease progression one year after baseline.`\n",
    "\n",
    "\n",
    "[Task 1: Split the dataset](task1)\n",
    "\n",
    "[Task 2: Implement the KNN for regession](task2)\n",
    "\n",
    "[Task 3: Evaluate](task3)\n",
    "\n",
    "[Task 4: Explore the impact of different K](Task4)\n",
    "\n",
    "[Task 5: Improve KNN]()"
   ]
  },
  {
   "cell_type": "markdown",
   "id": "d89a0eee-a01e-4259-b89c-cdf9793759d4",
   "metadata": {},
   "source": [
    "#### Load the diabetes dataset"
   ]
  },
  {
   "cell_type": "code",
   "execution_count": 1,
   "id": "5bba0f0c",
   "metadata": {
    "tags": []
   },
   "outputs": [
    {
     "name": "stdout",
     "output_type": "stream",
     "text": [
      ".. _diabetes_dataset:\n",
      "\n",
      "Diabetes dataset\n",
      "----------------\n",
      "\n",
      "Ten baseline variables, age, sex, body mass index, average blood\n",
      "pressure, and six blood serum measurements were obtained for each of n =\n",
      "442 diabetes patients, as well as the response of interest, a\n",
      "quantitative measure of disease progression one year after baseline.\n",
      "\n",
      "**Data Set Characteristics:**\n",
      "\n",
      "  :Number of Instances: 442\n",
      "\n",
      "  :Number of Attributes: First 10 columns are numeric predictive values\n",
      "\n",
      "  :Target: Column 11 is a quantitative measure of disease progression one year after baseline\n",
      "\n",
      "  :Attribute Information:\n",
      "      - age     age in years\n",
      "      - sex\n",
      "      - bmi     body mass index\n",
      "      - bp      average blood pressure\n",
      "      - s1      tc, total serum cholesterol\n",
      "      - s2      ldl, low-density lipoproteins\n",
      "      - s3      hdl, high-density lipoproteins\n",
      "      - s4      tch, total cholesterol / HDL\n",
      "      - s5      ltg, possibly log of serum triglycerides level\n",
      "      - s6      glu, blood sugar level\n",
      "\n",
      "Note: Each of these 10 feature variables have been mean centered and scaled by the standard deviation times the square root of `n_samples` (i.e. the sum of squares of each column totals 1).\n",
      "\n",
      "Source URL:\n",
      "https://www4.stat.ncsu.edu/~boos/var.select/diabetes.html\n",
      "\n",
      "For more information see:\n",
      "Bradley Efron, Trevor Hastie, Iain Johnstone and Robert Tibshirani (2004) \"Least Angle Regression,\" Annals of Statistics (with discussion), 407-499.\n",
      "(https://web.stanford.edu/~hastie/Papers/LARS/LeastAngle_2002.pdf)\n",
      "\n"
     ]
    }
   ],
   "source": [
    "import numpy as np\n",
    "from sklearn import datasets as ds\n",
    "from sklearn.model_selection import train_test_split\n",
    "\n",
    "# 1. Data preparation\n",
    "db = ds.load_diabetes()\n",
    "X = db.data #feature vectors\n",
    "y = db.target #target values\n",
    "\n",
    "print(db['DESCR'])"
   ]
  },
  {
   "cell_type": "markdown",
   "id": "946e00b4-47f8-4c42-a229-067adf8a693b",
   "metadata": {},
   "source": [
    "#### Task 1: Split the dataset into training (75%) and test sets (25%). 5 points. <a id=\"task1\">"
   ]
  },
  {
   "cell_type": "code",
   "execution_count": 2,
   "id": "6d55fd9f-b9ce-47cd-959a-e5512c83e725",
   "metadata": {
    "tags": []
   },
   "outputs": [
    {
     "name": "stdout",
     "output_type": "stream",
     "text": [
      "Training set X shape: (331, 10)\n",
      "Test set X shape: (111, 10)\n",
      "Training set y shape: (331,)\n",
      "Test set y shape: (111,)\n"
     ]
    }
   ],
   "source": [
    "# add your code here\n",
    "\n",
    "from sklearn.model_selection import train_test_split\n",
    "from sklearn.datasets import load_diabetes\n",
    "\n",
    "# Load the diabetes dataset\n",
    "X, y = load_diabetes(return_X_y=True)\n",
    "\n",
    "# Split the dataset into training (75%) and test sets (25%)\n",
    "X_train, X_test, y_train, y_test = train_test_split(X, y, test_size=0.25, random_state=42)\n",
    "\n",
    "# Print the shapes of the splits\n",
    "print(\"Training set X shape:\", X_train.shape)\n",
    "print(\"Test set X shape:\", X_test.shape)\n",
    "print(\"Training set y shape:\", y_train.shape)\n",
    "print(\"Test set y shape:\", y_test.shape)\n",
    "\n",
    "\n",
    "\n"
   ]
  },
  {
   "cell_type": "markdown",
   "id": "efc585ba-f5ff-4d2e-ab0c-f9716d5d7292",
   "metadata": {},
   "source": [
    "#### Task 2: Implement the KNN algorithm for regression. 20 points. <a id=\"task2\">\n",
    "\n",
    "- for any input data sample, find its k nearest neighbors on the training set\n",
    "- the prediction function will calculate the mean target values of the K neareast neighbors\n",
    "    "
   ]
  },
  {
   "cell_type": "markdown",
   "id": "53c6340b",
   "metadata": {},
   "source": [
    "##### Task 2.1: Complete the following function to identify the K nearest neighbors of a given data sample. \n",
    "- return both the indices and Euclidean distances of the K nearest neighbors for a given query/new sample."
   ]
  },
  {
   "cell_type": "code",
   "execution_count": 3,
   "id": "b744b4e5",
   "metadata": {
    "tags": []
   },
   "outputs": [
    {
     "name": "stdout",
     "output_type": "stream",
     "text": [
      "Input data sample:\n",
      " [ 0.04534098 -0.04464164 -0.00620595 -0.01599898  0.1250187   0.1251981\n",
      "  0.019187    0.03430886  0.03243232 -0.0052198 ]\n",
      "K nearest neighbors of x in the training set:\n",
      " [197 241 270 214  91] \n",
      "Their distances to the query:\n",
      " [0.07411571 0.09247044 0.10393224 0.10451036 0.11324869]\n"
     ]
    }
   ],
   "source": [
    "import numpy as np\n",
    "\n",
    "def findKNgbs(X_train, x_query, K=5):\n",
    "    '''find K nearest neighbors for a given data sample in X_train\n",
    "        \n",
    "        input:\n",
    "            X_train: training set (as a numpy array)\n",
    "            x_query: new data sample/a query (as a numpy array)\n",
    "            K: the number of neighbors\n",
    "            \n",
    "        return:\n",
    "            indK: the indices of the K nearest neighbors\n",
    "            disK: the distances of the K nearest neighbors to x_query          \n",
    "    '''\n",
    "    # Calculate the Euclidean distance from x_query to each point in X_train\n",
    "    distances = np.sqrt(((X_train - x_query)**2).sum(axis=1))\n",
    "    \n",
    "    # Get the indices of the K smallest distances\n",
    "    indK = np.argsort(distances)[:K]\n",
    "    \n",
    "    # Get the K smallest distances\n",
    "    disK = np.sort(distances)[:K]\n",
    "    \n",
    "    return indK, disK\n",
    "\n",
    "# Example usage with your X_train and X_test\n",
    "x = X_test[0]\n",
    "print('Input data sample:\\n', x)\n",
    "k_inx, k_dis = findKNgbs(X_train, x, K=5)\n",
    "print('K nearest neighbors of x in the training set:\\n', k_inx, '\\nTheir distances to the query:\\n', k_dis)\n"
   ]
  },
  {
   "cell_type": "markdown",
   "id": "5a1e2a36",
   "metadata": {},
   "source": [
    "\n",
    "##### Task 2.2: Predict the target value for new data samples.\n"
   ]
  },
  {
   "cell_type": "code",
   "execution_count": 4,
   "id": "9fd5653a",
   "metadata": {
    "tags": []
   },
   "outputs": [
    {
     "name": "stdout",
     "output_type": "stream",
     "text": [
      "Predictions: [126.         153.66666667 140.5        238.66666667 144.\n",
      " 141.5        258.66666667 178.33333333  98.5         99.5       ]\n",
      "True target values: [219.  70. 202. 230. 111.  84. 242. 272.  94.  96.]\n"
     ]
    }
   ],
   "source": [
    "import numpy as np\n",
    "\n",
    "def findKNgbs(X_train, x_query, K=5):\n",
    "    '''find K nearest neighbors for a given data sample in X_train\n",
    "        \n",
    "        input:\n",
    "            X_train: training set (as a numpy array)\n",
    "            x_query: new data sample/a query (as a numpy array)\n",
    "            K: the number of neighbors\n",
    "            \n",
    "        return:\n",
    "            indK: the indices of the K nearest neighbors\n",
    "            disK: the distances of the K nearest neighbors to x_query          \n",
    "    '''\n",
    "    # Calculate the Euclidean distance from x_query to each point in X_train\n",
    "    distances = np.sqrt(((X_train - x_query)**2).sum(axis=1))\n",
    "    \n",
    "    # Get the indices of the K smallest distances\n",
    "    indK = np.argsort(distances)[:K]\n",
    "    \n",
    "    # Get the K smallest distances\n",
    "    disK = np.sort(distances)[:K]\n",
    "    \n",
    "    return indK, disK\n",
    "\n",
    "def predict(X_in, X_train, y_train, K=5):\n",
    "    '''predict the target values for input queries\n",
    "        Input:\n",
    "            X_in: new data samples/queries. n*4. contains multiple data samples\n",
    "            X_train: the feature vectors of training samples\n",
    "            y_train: the target values of the training samples\n",
    "            K: the number of neighbors\n",
    "\n",
    "        return:\n",
    "            y_pred: the predictions of the input queries\n",
    "    '''\n",
    "    y_pred = np.zeros(X_in.shape[0])\n",
    "    for i, x_query in enumerate(X_in):\n",
    "        # Find K nearest neighbors\n",
    "        indK, _ = findKNgbs(X_train, x_query, K)\n",
    "        # Predict by averaging the target values of the K nearest neighbors\n",
    "        y_pred[i] = np.mean(y_train[indK])\n",
    "    return y_pred\n",
    "\n",
    "# Demonstration with a subset of X_test\n",
    "n = 10 # Number of test samples\n",
    "K = 6 # Number of neighbors\n",
    "\n",
    "X_in = X_test[0:n]\n",
    "y_pred = predict(X_in, X_train, y_train, K)\n",
    "print('Predictions:', y_pred)\n",
    "print('True target values:', y_test[:n])\n"
   ]
  },
  {
   "cell_type": "markdown",
   "id": "d9bc5572",
   "metadata": {},
   "source": [
    "#### Task 3: Evaluate the KNN method using MSE and MAE. 10 points. <a id=\"task3\">"
   ]
  },
  {
   "cell_type": "markdown",
   "id": "3bc18e38",
   "metadata": {},
   "source": [
    "- Implement the mean square error(MSE) and mean absolute error(MAE) functions.\n",
    "- Calcualte the MSE and MAE of the knn on the test set\n",
    "\n",
    "    - MSE: ((y_true[0]-y_pred[0])**2 + ...+(y_true[n-1]-y_pred[n-1])**2))/n where n is the number of samples\n",
    "    - MAE: (|y_true[0]-y_pred[0]| + ...+|y_true[n-1]-y_pred[n-1]|)/n"
   ]
  },
  {
   "cell_type": "code",
   "execution_count": 5,
   "id": "050d370a",
   "metadata": {
    "tags": []
   },
   "outputs": [
    {
     "name": "stdout",
     "output_type": "stream",
     "text": [
      "The MSE on the test set is 3375.31\n",
      "The MAE on the test set is 44.04\n"
     ]
    }
   ],
   "source": [
    "import numpy as np\n",
    "\n",
    "# Assuming predict function and other necessary code from previous tasks are already defined\n",
    "\n",
    "def myMSE(y_true, y_pred):\n",
    "    '''\n",
    "        y_true: the true target values\n",
    "        y_pred: predictions\n",
    "\n",
    "        return: the MSE between y_true and y_pred\n",
    "    '''\n",
    "    mse = np.mean((y_true - y_pred) ** 2)\n",
    "    return mse\n",
    "\n",
    "def myMAE(y_true, y_pred):\n",
    "    '''\n",
    "        y_true: the true target values\n",
    "        y_pred: predictions\n",
    "\n",
    "        return: the MAE between y_true and y_pred\n",
    "    '''\n",
    "    mae = np.mean(np.abs(y_true - y_pred))\n",
    "    return mae\n",
    "\n",
    "# Use the predict function to get predictions for the test set\n",
    "K = 4 # Number of neighbors\n",
    "y_pred = predict(X_test, X_train, y_train, K)\n",
    "\n",
    "# Calculate MSE and MAE using the custom functions\n",
    "mse = myMSE(y_test, y_pred)\n",
    "mae = myMAE(y_test, y_pred)\n",
    "\n",
    "print('The MSE on the test set is', round(mse, 2))\n",
    "print('The MAE on the test set is', round(mae, 2))\n"
   ]
  },
  {
   "cell_type": "markdown",
   "id": "0152629e",
   "metadata": {},
   "source": [
    "#### Task 4: Explore the impact of different K. 10 points. <a id=\"task4\">\n",
    "    \n",
    "##### Task 4.1\n",
    "    - calculate the mse values for K from 1 to 30\n",
    "    - plot the mse values using a curve. Set the xlabel to 'K' and ylabel to 'MSE'. https://matplotlib.org/stable/gallery/pyplots/axline.html#sphx-glr-gallery-pyplots-axline-py"
   ]
  },
  {
   "cell_type": "code",
   "execution_count": 6,
   "id": "0ba6a3c3",
   "metadata": {},
   "outputs": [
    {
     "data": {
      "image/png": "[encoded data removed]",
      "text/plain": [
       "<Figure size 1000x600 with 1 Axes>"
      ]
     },
     "metadata": {},
     "output_type": "display_data"
    }
   ],
   "source": [
    "import matplotlib.pyplot as plt\n",
    "import numpy as np\n",
    "\n",
    "# Assuming predict function and other necessary code from previous tasks are already defined\n",
    "\n",
    "# Evaluate the performance on the test set for different values of K\n",
    "mses = []\n",
    "K_values = range(1, 31)  # K from 1 to 30\n",
    "\n",
    "for K in K_values:\n",
    "    y_pred = predict(X_test, X_train, y_train, K)\n",
    "    mse = myMSE(y_test, y_pred)\n",
    "    mses.append(mse)\n",
    "\n",
    "# Plotting the MSE values\n",
    "plt.figure(figsize=(10, 6))\n",
    "plt.plot(K_values, mses, marker='o', linestyle='-', color='blue')\n",
    "plt.xlabel('K')\n",
    "plt.ylabel('MSE')\n",
    "plt.title('MSE vs. K for KNN')\n",
    "plt.xticks(K_values)\n",
    "plt.grid(True)\n",
    "plt.show()\n"
   ]
  },
  {
   "cell_type": "markdown",
   "id": "ea285b92",
   "metadata": {},
   "source": [
    "#### Task 4.2: Discuss your findings from the above curve, e.g., the trend, best K, and the impact of small and large Ks\n",
    "\n"
   ]
  },
  {
   "cell_type": "markdown",
   "id": "02ae50db",
   "metadata": {},
   "source": [
    "Response: \n",
    "1. Initial Decrease inSE:K increases from 1, there's often an initial decrease in MSE. This happens because K is very small, the model is overly sensitive to noise in the training data, leading to high variance and potentially overfittit\n",
    "2. Minimum MSE: At some point, K  continues to increase; the graph shows a minimum MSE. This point represents the optimal balance between bias and variance for the model on the given dataset. The model is neither too complex (low K , high variance) nor too simplistic (high K , high variance)\n",
    "Analysing the best K\n",
    "e/The best K\n",
    "K is where the MSE is at its lowest on the graph. This value oK \r\n",
    "K strikes the right balance for the model's complexitymyyour specific dataset, offering the best generalization performance from the options teserIn summary, my analysis of the graph should focus on identifying the K K that provides the lowest MSE, understanding this as the point whermyur model achieves the best balance between bias and varian f for the given task.iancor the given task."
   ]
  },
  {
   "cell_type": "markdown",
   "id": "5b70bd01",
   "metadata": {},
   "source": [
    "#### Task 5: Improve the KNN method. 5 points. <a id=\"task5\">\n",
    "    - 10 extra points for implementing the imovement that can reduce the MSE or MAE"
   ]
  },
  {
   "cell_type": "code",
   "execution_count": 8,
   "id": "c0882049",
   "metadata": {},
   "outputs": [
    {
     "name": "stdout",
     "output_type": "stream",
     "text": [
      "Using K=14, the MSE on the test set is 3027.46\n",
      "Using K=14, the MAE on the test set is 44.43\n",
      "True Value: 219.0, Predicted Value: 143.85714285714286\n",
      "True Value: 70.0, Predicted Value: 151.64285714285714\n",
      "True Value: 202.0, Predicted Value: 143.0\n",
      "True Value: 230.0, Predicted Value: 223.07142857142858\n",
      "True Value: 111.0, Predicted Value: 173.85714285714286\n",
      "True Value: 84.0, Predicted Value: 117.42857142857143\n",
      "True Value: 242.0, Predicted Value: 248.92857142857142\n",
      "True Value: 272.0, Predicted Value: 196.14285714285714\n",
      "True Value: 94.0, Predicted Value: 89.85714285714286\n",
      "True Value: 96.0, Predicted Value: 115.64285714285714\n"
     ]
    }
   ],
   "source": [
    "k_best = 14  # Based on your analysis for the best K\n",
    "\n",
    "# Make predictions using the best K\n",
    "y_pred = predict(X_test, X_train, y_train, k_best)\n",
    "\n",
    "# Calculate MSE and MAE using the predictions\n",
    "mse = myMSE(y_test, y_pred)\n",
    "mae = myMAE(y_test, y_pred)\n",
    "\n",
    "print(f'Using K={k_best}, the MSE on the test set is {round(mse,2)}')\n",
    "print(f'Using K={k_best}, the MAE on the test set is {round(mae, 2)}')\n",
    "\n",
    "# Compare the predictions of the first 10 test samples and their true target values\n",
    "for i in range(10):\n",
    "    print(f'True Value: {y_test[i]}, Predicted Value: {y_pred[i]}')\n"
   ]
  },
  {
   "cell_type": "markdown",
   "id": "85cb8fff-75e8-4eb9-837c-e3bf4a90ac7a",
   "metadata": {},
   "source": [
    "From the above results, even we use the best K, the MSE and MAE are still large. Please suggest any possible improvements of the KNN alrorithm.\n",
    "\n"
   ]
  },
  {
   "cell_type": "markdown",
   "id": "a194c0b5-0ca2-4aea-95d1-3fcbb4c57702",
   "metadata": {},
   "source": [
    "Response: to Improve the KNN algrothim performace, consider these strategies:\n",
    "\n",
    "1. Feature Scaling: Normalize or standardize features so they contribute equally to the distance calculation.\n",
    "   \r",
    "2. Feature Selection:Removing irrelevant or redundant features can improve the model's accuracy. Feature selection techniques, such as backward elimination, forward selection, or using model-based methods (e.g., Lasso for regression), can help identify and retain the most informative features.\\\n",
    "\n",
    "3. \n",
    "Weighted KNNInstead of giving equal importance to all K neighbors, weighted KNN assigns weights inversely proportional to the distance of neighbors.44.\r\n",
    "Distance Metric: Experiment with different metrics (Euclidean, Manhattan) to better capture data similariti\n",
    "ity.\n",
    "    \n",
    "    \n",
    "    \n",
    "    "
   ]
  },
  {
   "cell_type": "code",
   "execution_count": null,
   "id": "47fbf293-7025-44da-8cdd-2fab7a1acc8c",
   "metadata": {},
   "outputs": [],
   "source": []
  }
 ],
 "metadata": {
  "kernelspec": {
   "display_name": "Python 3 (ipykernel)",
   "language": "python",
   "name": "python3"
  },
  "language_info": {
   "codemirror_mode": {
    "name": "ipython",
    "version": 3
   },
   "file_extension": ".py",
   "mimetype": "text/x-python",
   "name": "python",
   "nbconvert_exporter": "python",
   "pygments_lexer": "ipython3",
   "version": "3.8.18"
  }
 },
 "nbformat": 4,
 "nbformat_minor": 5
}
